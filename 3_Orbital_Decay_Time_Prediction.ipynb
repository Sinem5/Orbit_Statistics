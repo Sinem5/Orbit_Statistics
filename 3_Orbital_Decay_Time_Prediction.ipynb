{
 "cells": [
  {
   "cell_type": "markdown",
   "metadata": {},
   "source": [
    "# Orbital Decay Time Prediction"
   ]
  },
  {
   "cell_type": "code",
   "execution_count": 1,
   "metadata": {},
   "outputs": [],
   "source": [
    "import numpy as np\n",
    "import pandas as pd\n",
    "import matplotlib.pyplot as plt\n",
    "import seaborn as sns"
   ]
  },
  {
   "cell_type": "code",
   "execution_count": 2,
   "metadata": {},
   "outputs": [],
   "source": [
    "df = pd.read_csv('space_decay_wpca.csv')"
   ]
  },
  {
   "cell_type": "code",
   "execution_count": 6,
   "metadata": {},
   "outputs": [
    {
     "name": "stdout",
     "output_type": "stream",
     "text": [
      "<class 'pandas.core.frame.DataFrame'>\n",
      "RangeIndex: 14125 entries, 0 to 14124\n",
      "Data columns (total 24 columns):\n",
      " #   Column                 Non-Null Count  Dtype  \n",
      "---  ------                 --------------  -----  \n",
      " 0   OBJECT_NAME            14125 non-null  object \n",
      " 1   OBJECT_ID              14125 non-null  object \n",
      " 2   EPOCH                  14125 non-null  object \n",
      " 3   INCLINATION            14125 non-null  float64\n",
      " 4   RA_OF_ASC_NODE         14125 non-null  float64\n",
      " 5   ARG_OF_PERICENTER      14125 non-null  float64\n",
      " 6   MEAN_ANOMALY           14125 non-null  float64\n",
      " 7   NORAD_CAT_ID           14125 non-null  int64  \n",
      " 8   REV_AT_EPOCH           14125 non-null  int64  \n",
      " 9   BSTAR                  14125 non-null  float64\n",
      " 10  MEAN_MOTION_DOT        14125 non-null  float64\n",
      " 11  MEAN_MOTION_DDOT       14125 non-null  float64\n",
      " 12  OBJECT_TYPE            14125 non-null  int64  \n",
      " 13  RCS_SIZE               14125 non-null  int64  \n",
      " 14  COUNTRY_CODE           14125 non-null  object \n",
      " 15  LAUNCH_DATE            14125 non-null  float64\n",
      " 16  SITE                   14125 non-null  object \n",
      " 17  APOPERI_RATIO          14125 non-null  float64\n",
      " 18  CROSS_SECTIONAL_AREA   14125 non-null  float64\n",
      " 19  DRAG_EFFECTIVE_AREA    14125 non-null  float64\n",
      " 20  ESTIMATED_DECAY_EPOCH  14125 non-null  object \n",
      " 21  ORBITAL_DECAY_TIME     14125 non-null  int64  \n",
      " 22  PC1                    14125 non-null  float64\n",
      " 23  PC2                    14125 non-null  float64\n",
      "dtypes: float64(13), int64(5), object(6)\n",
      "memory usage: 2.6+ MB\n"
     ]
    }
   ],
   "source": [
    "df.info()"
   ]
  },
  {
   "cell_type": "markdown",
   "metadata": {},
   "source": [
    "## Feature Selection"
   ]
  },
  {
   "cell_type": "markdown",
   "metadata": {},
   "source": [
    "> In the context of predicting orbital decay, I initially performed a mutual information (MI) analysis to measure the dependency between each feature and the target variable. MI is a non-parametric method that captures both linear and nonlinear relationships between variables. The following features were selected based on their relatively high mutual information scores, indicating that they each contribute unique and significant information regarding the decay behavior of satellites.\n",
    "\n",
    "'BSTAR','CROSS_SECTIONAL_AREA','MEAN_MOTION_DOT', 'DRAG_EFFECTIVE_AREA','APOPERI_RATIO','REV_AT_EPOCH','INCLINATION', (PC1,PC2)"
   ]
  },
  {
   "cell_type": "code",
   "execution_count": 5,
   "metadata": {},
   "outputs": [],
   "source": [
    "from sklearn.feature_selection import RFE\n",
    "from catboost import CatBoostRegressor\n",
    "from sklearn.model_selection import cross_val_score"
   ]
  },
  {
   "cell_type": "code",
   "execution_count": 8,
   "metadata": {},
   "outputs": [
    {
     "name": "stdout",
     "output_type": "stream",
     "text": [
      "Optimal number of features: 5\n",
      "Selected features: ['BSTAR', 'MEAN_MOTION_DOT', 'APOPERI_RATIO', 'DRAG_EFFECTIVE_AREA', 'PC2']\n",
      "Feature rankings: [ 6 11  5  3  9  4  1  1  2 10 13 12  1  8  1  7  1]\n"
     ]
    }
   ],
   "source": [
    "X = df.drop(columns=['ORBITAL_DECAY_TIME','EPOCH','OBJECT_ID','OBJECT_NAME','COUNTRY_CODE','SITE','ESTIMATED_DECAY_EPOCH'])\n",
    "Y = df['ORBITAL_DECAY_TIME']\n",
    "\n",
    "model = CatBoostRegressor(verbose=0, n_estimators=100)\n",
    "\n",
    "cv_scores = []\n",
    "feature_counts = range(1, X.shape[1] + 1)\n",
    "selected_features_list = []\n",
    "feature_rankings_list = []\n",
    "\n",
    "for n_features in feature_counts:\n",
    "    rfe = RFE(estimator=model, n_features_to_select=n_features)\n",
    "    X_reduced = rfe.fit_transform(X, Y)\n",
    "\n",
    "    scores = cross_val_score(model, X_reduced, Y, cv=4, scoring='neg_mean_squared_error')\n",
    "    cv_scores.append(np.mean(scores))\n",
    "\n",
    "    selected_features_list.append(X.columns[rfe.support_])\n",
    "    feature_rankings_list.append(rfe.ranking_)\n",
    "\n",
    "optimal_features = feature_counts[np.argmax(cv_scores)]\n",
    "optimal_selected_features = selected_features_list[np.argmax(cv_scores)]\n",
    "optimal_feature_rankings = feature_rankings_list[np.argmax(cv_scores)]\n",
    "\n",
    "print(f\"Optimal number of features: {optimal_features}\")\n",
    "print(f\"Selected features: {list(optimal_selected_features)}\")\n",
    "print(f\"Feature rankings: {optimal_feature_rankings}\")"
   ]
  },
  {
   "cell_type": "markdown",
   "metadata": {},
   "source": [
    "> To ensure both statistical relevance and predictive performance in modeling orbital decay time, I performed feature selection using Recursive Feature Elimination (RFE) with a CatBoost regressor, a gradient boosting model known for handling non-linear relationships and categorical features effectively. While any machine learning model could be employed for feature selection, CatBoost was chosen for its robustness and interpretability in tabular data. The model identified five optimal features which consistently yielded the lowest mean squared error across cross-validation folds. Notably, all selected features also demonstrated high mutual information with the target variable, confirming their strong statistical dependency and physical relevance in the orbital decay process. Therefore, moving forward, these five features will be used as the core input set for model development and evaluation.\n",
    "\n",
    "'BSTAR', 'MEAN_MOTION_DOT', 'APOPERI_RATIO', 'DRAG_EFFECTIVE_AREA', 'PC2'"
   ]
  },
  {
   "cell_type": "code",
   "execution_count": 10,
   "metadata": {},
   "outputs": [],
   "source": [
    "optimal_selected_features=['BSTAR', 'MEAN_MOTION_DOT', 'APOPERI_RATIO', 'DRAG_EFFECTIVE_AREA', 'PC2']"
   ]
  },
  {
   "cell_type": "markdown",
   "metadata": {},
   "source": [
    "## Model Training"
   ]
  },
  {
   "cell_type": "code",
   "execution_count": 9,
   "metadata": {},
   "outputs": [
    {
     "name": "stderr",
     "output_type": "stream",
     "text": [
      "/home/sinem/miniconda3/lib/python3.11/site-packages/tqdm/auto.py:21: TqdmWarning: IProgress not found. Please update jupyter and ipywidgets. See https://ipywidgets.readthedocs.io/en/stable/user_install.html\n",
      "  from .autonotebook import tqdm as notebook_tqdm\n"
     ]
    }
   ],
   "source": [
    "import os\n",
    "import json\n",
    "import pandas as pd\n",
    "import numpy as np\n",
    "from sklearn.model_selection import train_test_split, GridSearchCV\n",
    "from sklearn.metrics import r2_score\n",
    "from sklearn.ensemble import RandomForestRegressor, GradientBoostingRegressor, AdaBoostRegressor\n",
    "from sklearn.linear_model import LinearRegression\n",
    "from sklearn.tree import DecisionTreeRegressor\n",
    "from sklearn.svm import SVR\n",
    "from xgboost import XGBRegressor\n",
    "from lightgbm import LGBMRegressor\n",
    "from catboost import CatBoostRegressor\n",
    "import autogluon.tabular as ag"
   ]
  },
  {
   "cell_type": "code",
   "execution_count": null,
   "metadata": {},
   "outputs": [],
   "source": []
  },
  {
   "cell_type": "code",
   "execution_count": null,
   "metadata": {},
   "outputs": [],
   "source": []
  }
 ],
 "metadata": {
  "kernelspec": {
   "display_name": "base",
   "language": "python",
   "name": "python3"
  },
  "language_info": {
   "codemirror_mode": {
    "name": "ipython",
    "version": 3
   },
   "file_extension": ".py",
   "mimetype": "text/x-python",
   "name": "python",
   "nbconvert_exporter": "python",
   "pygments_lexer": "ipython3",
   "version": "3.11.10"
  }
 },
 "nbformat": 4,
 "nbformat_minor": 2
}
